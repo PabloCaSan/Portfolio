{
  "nbformat": 4,
  "nbformat_minor": 0,
  "metadata": {
    "colab": {
      "name": "RN_DeteccionNumeros.ipynb",
      "provenance": [],
      "authorship_tag": "ABX9TyMk9PdvpzNsyovy87mcjHOV",
      "include_colab_link": true
    },
    "kernelspec": {
      "name": "python3",
      "display_name": "Python 3"
    },
    "language_info": {
      "name": "python"
    }
  },
  "cells": [
    {
      "cell_type": "markdown",
      "metadata": {
        "id": "view-in-github",
        "colab_type": "text"
      },
      "source": [
        "<a href=\"https://colab.research.google.com/github/PabloCaSan/Portfolio/blob/main/RN_DeteccionNumeros.ipynb\" target=\"_parent\"><img src=\"https://colab.research.google.com/assets/colab-badge.svg\" alt=\"Open In Colab\"/></a>"
      ]
    },
    {
      "cell_type": "markdown",
      "source": [
        "# Detección de números de imagen a texto\n",
        "\n",
        "Se entrenará una red neuronal para la detección de números a partir de imágenes. Se usará el dataset \"mnist\" que viene con tensorflow. La red neuronal deberá ser capaz de detectar y clasificar correctamente imágenes de números del 0 al 9"
      ],
      "metadata": {
        "id": "9cdacHDwr3Yp"
      }
    },
    {
      "cell_type": "markdown",
      "source": [
        "Cargamos las librerías que usaremos"
      ],
      "metadata": {
        "id": "2Gyef-2rsca4"
      }
    },
    {
      "cell_type": "code",
      "execution_count": 1,
      "metadata": {
        "id": "O8qmMdq6knej"
      },
      "outputs": [],
      "source": [
        "import tensorflow as tf\n",
        "import tensorflow_datasets as tfds\n",
        "import math\n",
        "import numpy as np\n",
        "import matplotlib.pyplot as plt"
      ]
    },
    {
      "cell_type": "markdown",
      "source": [
        "Cargamos el dataset"
      ],
      "metadata": {
        "id": "EkPzsbfhsfLL"
      }
    },
    {
      "cell_type": "code",
      "source": [
        "dataset, metadata = tfds.load('mnist', as_supervised=True, with_info=True)"
      ],
      "metadata": {
        "id": "ly9r_bNvk8k5"
      },
      "execution_count": 2,
      "outputs": []
    },
    {
      "cell_type": "code",
      "source": [
        "train_dataset, test_dataset = dataset['train'], dataset['test']"
      ],
      "metadata": {
        "id": "TLaiUCUBlaQm"
      },
      "execution_count": 3,
      "outputs": []
    },
    {
      "cell_type": "markdown",
      "source": [
        "Creamos un arreglo de etiquetas para las categorías de los números"
      ],
      "metadata": {
        "id": "mFFMlpfesjMO"
      }
    },
    {
      "cell_type": "code",
      "source": [
        "class_names = [\n",
        "    'Cero', 'Uno', 'Dos', 'Tres', 'Cuatro', 'Cinco', 'Seis',\n",
        "    'Siete', 'Ocho', 'Nueve'\n",
        "]"
      ],
      "metadata": {
        "id": "UdUdca_Alk59"
      },
      "execution_count": 4,
      "outputs": []
    },
    {
      "cell_type": "markdown",
      "source": [
        "Dividimos la información para entrenar y para evaluar"
      ],
      "metadata": {
        "id": "KHcwZcQ3so6z"
      }
    },
    {
      "cell_type": "code",
      "source": [
        "train_examples = metadata.splits['train'].num_examples\n",
        "test_examples = metadata.splits['test'].num_examples"
      ],
      "metadata": {
        "id": "4XSzir7ul2-u"
      },
      "execution_count": 5,
      "outputs": []
    },
    {
      "cell_type": "markdown",
      "source": [
        "Creamos y aplicamos una función de normalización, para poder interpretar las imágenes pixel a pixel"
      ],
      "metadata": {
        "id": "NzI9QwzzsvCA"
      }
    },
    {
      "cell_type": "code",
      "source": [
        "def normalize(images, labels):\n",
        "  images = tf.cast(images, tf.float32)\n",
        "  images /= 255\n",
        "  return images, labels"
      ],
      "metadata": {
        "id": "dLMF1L9AmGXa"
      },
      "execution_count": 6,
      "outputs": []
    },
    {
      "cell_type": "code",
      "source": [
        "train_dataset = train_dataset.map(normalize)\n",
        "test_dataset = test_dataset.map(normalize)"
      ],
      "metadata": {
        "id": "81Shyv_ymiHi"
      },
      "execution_count": 7,
      "outputs": []
    },
    {
      "cell_type": "markdown",
      "source": [
        "Definimos la estructura de la red neuronal. La capa de entrada recibirá imágenes de 28 x 28 pixeles, habrá dos capas ocultas con función de activación relu, y la capa de salida utilizará una función softmax para clasificar los resultados"
      ],
      "metadata": {
        "id": "iLlwwFDNs4NV"
      }
    },
    {
      "cell_type": "code",
      "source": [
        "model = tf.keras.Sequential([\n",
        "  tf.keras.layers.Flatten(input_shape=(28,28,1)),\n",
        "  tf.keras.layers.Dense(64, activation = tf.nn.relu),\n",
        "  tf.keras.layers.Dense(64, activation = tf.nn.relu),\n",
        "  tf.keras.layers.Dense(10, activation = tf.nn.softmax)\n",
        "])"
      ],
      "metadata": {
        "id": "nLi8ra34mx_8"
      },
      "execution_count": 8,
      "outputs": []
    },
    {
      "cell_type": "markdown",
      "source": [
        "Definimos el optimizador, la función de pérdida y evaluamos la precisión"
      ],
      "metadata": {
        "id": "W5rqGx7JtLtw"
      }
    },
    {
      "cell_type": "code",
      "source": [
        "model.compile(\n",
        "  optimizer = 'adam',\n",
        "  loss = 'sparse_categorical_crossentropy',\n",
        "  metrics = 'accuracy'\n",
        ")"
      ],
      "metadata": {
        "id": "QKe01mknnoxP"
      },
      "execution_count": 9,
      "outputs": []
    },
    {
      "cell_type": "markdown",
      "source": [
        "El aprendizaje se hará por lotes de forma aleatoria"
      ],
      "metadata": {
        "id": "7oWqGpjGtYam"
      }
    },
    {
      "cell_type": "code",
      "source": [
        "BATCHSIZE = 32\n",
        "train_dataset = train_dataset.repeat().shuffle(train_examples).batch(BATCHSIZE)\n",
        "test_dataset = test_dataset.batch(BATCHSIZE)"
      ],
      "metadata": {
        "id": "0X3scsSTqzSK"
      },
      "execution_count": 10,
      "outputs": []
    },
    {
      "cell_type": "markdown",
      "source": [
        "Aplicamos el modelo"
      ],
      "metadata": {
        "id": "d6RPdHsCth1e"
      }
    },
    {
      "cell_type": "code",
      "source": [
        "model.fit(\n",
        "\ttrain_dataset, epochs=5,\n",
        "\tsteps_per_epoch=math.ceil(train_examples/BATCHSIZE)\n",
        ")"
      ],
      "metadata": {
        "colab": {
          "base_uri": "https://localhost:8080/"
        },
        "id": "K-REoYEGoxDi",
        "outputId": "c6fbfa47-11a2-4681-bc2d-d0bc1023dc59"
      },
      "execution_count": 11,
      "outputs": [
        {
          "output_type": "stream",
          "name": "stdout",
          "text": [
            "Epoch 1/5\n",
            "1875/1875 [==============================] - 20s 4ms/step - loss: 0.2728 - accuracy: 0.9202\n",
            "Epoch 2/5\n",
            "1875/1875 [==============================] - 7s 4ms/step - loss: 0.1247 - accuracy: 0.9619\n",
            "Epoch 3/5\n",
            "1875/1875 [==============================] - 7s 4ms/step - loss: 0.0887 - accuracy: 0.9728\n",
            "Epoch 4/5\n",
            "1875/1875 [==============================] - 7s 4ms/step - loss: 0.0712 - accuracy: 0.9776\n",
            "Epoch 5/5\n",
            "1875/1875 [==============================] - 7s 4ms/step - loss: 0.0564 - accuracy: 0.9822\n"
          ]
        },
        {
          "output_type": "execute_result",
          "data": {
            "text/plain": [
              "<keras.callbacks.History at 0x7f31ce602550>"
            ]
          },
          "metadata": {},
          "execution_count": 11
        }
      ]
    },
    {
      "cell_type": "markdown",
      "source": [
        "Evaluamos la precisión del modelo"
      ],
      "metadata": {
        "id": "kv3DZsW-tkyL"
      }
    },
    {
      "cell_type": "code",
      "source": [
        "test_loss, test_accuracy = model.evaluate(\n",
        "\ttest_dataset, steps=math.ceil(test_examples/32)\n",
        ")\n",
        "print(\"Precisión del modelo: \", test_accuracy*100, '%')"
      ],
      "metadata": {
        "colab": {
          "base_uri": "https://localhost:8080/"
        },
        "id": "I8it9322pPY1",
        "outputId": "ecfe220a-e3fb-43ba-f4b0-89207f7e9e6a"
      },
      "execution_count": 12,
      "outputs": [
        {
          "output_type": "stream",
          "name": "stdout",
          "text": [
            "313/313 [==============================] - 2s 5ms/step - loss: 0.0982 - accuracy: 0.9718\n",
            "Precisión del modelo:  97.18000292778015 %\n"
          ]
        }
      ]
    },
    {
      "cell_type": "markdown",
      "source": [
        "Veamos los resultados de forma gráfica"
      ],
      "metadata": {
        "id": "s1jfluqVyRWt"
      }
    },
    {
      "cell_type": "markdown",
      "source": [
        "Cargamos los datos de las imágenes y etiquetas de prueba y las comparamos con las predicciones del modelo"
      ],
      "metadata": {
        "id": "j5mVZo8hyU_4"
      }
    },
    {
      "cell_type": "code",
      "source": [
        "for test_images, test_labels in test_dataset.take(1):\n",
        "\ttest_images = test_images.numpy()\n",
        "\ttest_labels = test_labels.numpy()\n",
        "\tpredictions = model.predict(test_images)\n"
      ],
      "metadata": {
        "id": "G1AQJTndrlLr"
      },
      "execution_count": 13,
      "outputs": []
    },
    {
      "cell_type": "markdown",
      "source": [
        "Creamos la representación gráfica, se mostrará el número en imagen y la etiqueta que le asignó el modelo. Para imágenes correctamente clasificadas se mostrará la etiqueta de color azul, mientras que la etiqueta será roja para imágenes mal clasificadas"
      ],
      "metadata": {
        "id": "Yr-M5M_uyhiW"
      }
    },
    {
      "cell_type": "code",
      "source": [
        "def plot_image(i, predictions_array, true_labels, images):\n",
        "\tpredictions_array, true_label, img = predictions_array[i], true_labels[i], images[i]\n",
        "\tplt.grid(False)\n",
        "\tplt.xticks([])\n",
        "\tplt.yticks([])\n",
        "\n",
        "\tplt.imshow(img[...,0], cmap=plt.cm.binary)\n",
        "\n",
        "\tpredicted_label = np.argmax(predictions_array)\n",
        "\tif predicted_label == true_label:\n",
        "\t\tcolor = 'blue'\n",
        "\telse:\n",
        "\t\tcolor = 'red'\n",
        "\n",
        "\tplt.xlabel(\"Predicción: {}\".format(class_names[predicted_label]), color=color)\n",
        "\n",
        "numrows=6\n",
        "numcols=6\n",
        "\n",
        "plt.figure(figsize=(2*2*numcols, 2*numrows))\n",
        "for i in range(BATCHSIZE):\n",
        "\tplt.subplot(numrows, 2*numcols, i+1)\n",
        "\tplot_image(i, predictions, test_labels, test_images)\n",
        "\n",
        "plt.show()"
      ],
      "metadata": {
        "colab": {
          "base_uri": "https://localhost:8080/",
          "height": 382
        },
        "id": "r1AvNxCduPF4",
        "outputId": "ae3c6db8-4c9c-4955-c76f-d528744f5975"
      },
      "execution_count": 14,
      "outputs": [
        {
          "output_type": "display_data",
          "data": {
            "text/plain": [
              "<Figure size 1728x864 with 32 Axes>"
            ],
            "image/png": "[encoded data removed]"
          },
          "metadata": {}
        }
      ]
    },
    {
      "cell_type": "markdown",
      "source": [
        "Aparentemente el resulado es bueno, pero notemos que todos los números del dataset están centrados y son de un tamaño relativamente grande, así que podría haber errores al escribir números de tamaño mucho menor y en una esquina. Además como el objetivo del modelo es arrojar resultados de números, aunque hiciéramos un garabato, éste le asignaría un número"
      ],
      "metadata": {
        "id": "EfNBW2w1VbN0"
      }
    }
  ]
}