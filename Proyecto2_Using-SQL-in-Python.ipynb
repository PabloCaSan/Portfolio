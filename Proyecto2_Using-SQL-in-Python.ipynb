{
  "nbformat": 4,
  "nbformat_minor": 0,
  "metadata": {
    "colab": {
      "name": "SQL_en _Python.ipynb",
      "provenance": [],
      "collapsed_sections": [],
      "authorship_tag": "ABX9TyPYDmL3g4QoI8TeJsvz8g6b",
      "include_colab_link": true
    },
    "kernelspec": {
      "name": "python3",
      "display_name": "Python 3"
    },
    "language_info": {
      "name": "python"
    }
  },
  "cells": [
    {
      "cell_type": "markdown",
      "metadata": {
        "id": "view-in-github",
        "colab_type": "text"
      },
      "source": [
        "<a href=\"https://colab.research.google.com/github/PabloCaSan/Portfolio/blob/main/Proyecto2_Using-SQL-in-Python.ipynb\" target=\"_parent\"><img src=\"https://colab.research.google.com/assets/colab-badge.svg\" alt=\"Open In Colab\"/></a>"
      ]
    },
    {
      "cell_type": "markdown",
      "source": [
        "# Using SQL in Python via SQLAlchemy"
      ],
      "metadata": {
        "id": "HZF4VamtRzdz"
      }
    },
    {
      "cell_type": "markdown",
      "source": [
        "Some considerations about this notebook:\n",
        "\n",
        "*   This notebook is going to be written in english as I want to prove my english proficiency.\n",
        "*   In this notebook I will be using common SQL queries to prove what I know\n",
        "*   I will use some of the files I worked with during my IBM course\n"
      ],
      "metadata": {
        "id": "MP1iDmmmq72J"
      }
    },
    {
      "cell_type": "markdown",
      "source": [
        "First we start by installing sqlalchemy and the IBM libraries, in case we don't have them yet"
      ],
      "metadata": {
        "id": "eRLC0H4_SwUR"
      }
    },
    {
      "cell_type": "code",
      "execution_count": null,
      "metadata": {
        "colab": {
          "base_uri": "https://localhost:8080/"
        },
        "id": "8cY7BhQNyCji",
        "outputId": "be9b9259-856b-4caa-afc4-a784156f9f00"
      },
      "outputs": [
        {
          "output_type": "stream",
          "name": "stdout",
          "text": [
            "Requirement already satisfied: ibm_db in /usr/local/lib/python3.7/dist-packages (3.1.1)\n",
            "Requirement already satisfied: ibm_db_sa in /usr/local/lib/python3.7/dist-packages (0.3.7)\n",
            "Requirement already satisfied: sqlalchemy>=0.7.3 in /usr/local/lib/python3.7/dist-packages (from ibm_db_sa) (1.3.9)\n",
            "Requirement already satisfied: sqlalchemy==1.3.9 in /usr/local/lib/python3.7/dist-packages (1.3.9)\n"
          ]
        }
      ],
      "source": [
        "!pip install ibm_db ibm_db_sa\n",
        "!pip install sqlalchemy==1.3.9"
      ]
    },
    {
      "cell_type": "markdown",
      "source": [
        "Now we import the libraries we will use"
      ],
      "metadata": {
        "id": "0kvhmKr2dWRu"
      }
    },
    {
      "cell_type": "code",
      "source": [
        "import seaborn as sns\n",
        "sns.set(rc={'figure.figsize':(10,7)})\n",
        "import pandas as pd"
      ],
      "metadata": {
        "id": "iWKToLVyq_LK"
      },
      "execution_count": null,
      "outputs": []
    },
    {
      "cell_type": "markdown",
      "source": [
        "And the tool that allows us to use SQL"
      ],
      "metadata": {
        "id": "AILDGQrxS4Aq"
      }
    },
    {
      "cell_type": "code",
      "source": [
        "%load_ext sql"
      ],
      "metadata": {
        "id": "XQGZneH85lix"
      },
      "execution_count": null,
      "outputs": []
    },
    {
      "cell_type": "markdown",
      "source": [
        "This tool allows us to use and submit queries within Python, it's like magic!"
      ],
      "metadata": {
        "id": "69Obg_yqRhfR"
      }
    },
    {
      "cell_type": "markdown",
      "source": [
        "We will be connecting to IBM DB2 which is a database system and is part of the IBM Cloud Services, to do that we have to write the following line\n",
        "\n",
        "\n",
        "\n",
        "```\n",
        "# %sql ibm_db_sa://my-username:my-password@hostname:port/BLUDB?security=SSL\n",
        "```\n",
        "\n",
        "With the credentials taken from the DB2 environment as the example shown below (the actual credentials may vary from this):\n",
        "\n",
        "<img src='https://drive.google.com/uc?id=1YweatUBEn4FLqXBlo63SKseFUFyZ7JLI'>\n"
      ],
      "metadata": {
        "id": "mHwNz4DGWilV"
      }
    },
    {
      "cell_type": "code",
      "source": [
        "%sql ibm_db_sa://gls83869:gLBal8szQhpS4g2V@2f3279a5-73d1-4859-88f0-a6c3e6b4b907.c3n41cmd0nqnrk39u98g.databases.appdomain.cloud:30756/BLUDB?security=SSL"
      ],
      "metadata": {
        "colab": {
          "base_uri": "https://localhost:8080/",
          "height": 35
        },
        "id": "gr3FbaFZV-YI",
        "outputId": "99e37441-9e30-4e6b-c932-f52ca810dcff"
      },
      "execution_count": null,
      "outputs": [
        {
          "output_type": "execute_result",
          "data": {
            "application/vnd.google.colaboratory.intrinsic+json": {
              "type": "string"
            },
            "text/plain": [
              "'Connected: gls83869@BLUDB'"
            ]
          },
          "metadata": {},
          "execution_count": 4
        }
      ]
    },
    {
      "cell_type": "markdown",
      "source": [
        "**Note 1:** In case there are ploblems to connect, we can try the following:\n",
        "\n",
        "1.   Check the credentials are well written\n",
        "2.   Reload Google Colab environment\n",
        "3.   Create new credentials and repeat number 2\n",
        "\n",
        "\n",
        "\n",
        "**Note 2:** When creating new credentials from the same user, the only change between them is the password, so we don't need to rewrite everything, just remenber number 1.\n"
      ],
      "metadata": {
        "id": "wSB1d_n9bjoq"
      }
    },
    {
      "cell_type": "markdown",
      "source": [
        "Now we need some data to work with so let's create some tables"
      ],
      "metadata": {
        "id": "FY2IhB_uS_4c"
      }
    },
    {
      "cell_type": "code",
      "source": [
        "%%sql\n",
        "\n",
        "CREATE TABLE INTERNATIONAL_STUDENT_TEST_SCORES (\n",
        "\tcountry VARCHAR(50),\n",
        "\tfirst_name VARCHAR(50),\n",
        "\tlast_name VARCHAR(50),\n",
        "\ttest_score INT\n",
        ");\n",
        "INSERT INTO INTERNATIONAL_STUDENT_TEST_SCORES (country, first_name, last_name, test_score)\n",
        "VALUES\n",
        "('United States', 'Marshall', 'Bernadot', 54),\n",
        "('Ghana', 'Celinda', 'Malkin', 51),\n",
        "('Ukraine', 'Guillermo', 'Furze', 53),\n",
        "('Greece', 'Aharon', 'Tunnow', 48),\n",
        "('Russia', 'Bail', 'Goodwin', 46),\n",
        "('Poland', 'Cole', 'Winteringham', 49),\n",
        "('Sweden', 'Emlyn', 'Erricker', 55),\n",
        "('Russia', 'Cathee', 'Sivewright', 49),\n",
        "('China', 'Barny', 'Ingerson', 57),\n",
        "('Uganda', 'Sharla', 'Papaccio', 55),\n",
        "('China', 'Stella', 'Youens', 51),\n",
        "('Poland', 'Julio', 'Buesden', 48),\n",
        "('United States', 'Tiffie', 'Cosely', 58),\n",
        "('Poland', 'Auroora', 'Stiffell', 45),\n",
        "('China', 'Clarita', 'Huet', 52),\n",
        "('Poland', 'Shannon', 'Goulden', 45),\n",
        "('Philippines', 'Emylee', 'Privost', 50),\n",
        "('France', 'Madelina', 'Burk', 49),\n",
        "('China', 'Saunderson', 'Root', 58),\n",
        "('Indonesia', 'Bo', 'Waring', 55),\n",
        "('China', 'Hollis', 'Domotor', 45),\n",
        "('Russia', 'Robbie', 'Collip', 46),\n",
        "('Philippines', 'Davon', 'Donisi', 46),\n",
        "('China', 'Cristabel', 'Radeliffe', 48),\n",
        "('China', 'Wallis', 'Bartleet', 58),\n",
        "('Moldova', 'Arleen', 'Stailey', 38),\n",
        "('Ireland', 'Mendel', 'Grumble', 58),\n",
        "('China', 'Sallyann', 'Exley', 51),\n",
        "('Mexico', 'Kain', 'Swaite', 46),\n",
        "('Indonesia', 'Alonso', 'Bulteel', 45),\n",
        "('Armenia', 'Anatol', 'Tankus', 51),\n",
        "('Indonesia', 'Coralyn', 'Dawkins', 48),\n",
        "('China', 'Deanne', 'Edwinson', 45),\n",
        "('China', 'Georgiana', 'Epple', 51),\n",
        "('Portugal', 'Bartlet', 'Breese', 56),\n",
        "('Azerbaijan', 'Idalina', 'Lukash', 50),\n",
        "('France', 'Livvie', 'Flory', 54),\n",
        "('Malaysia', 'Nonie', 'Borit', 48),\n",
        "('Indonesia', 'Clio', 'Mugg', 47),\n",
        "('Brazil', 'Westley', 'Measor', 48),\n",
        "('Philippines', 'Katrinka', 'Sibbert', 51),\n",
        "('Poland', 'Valentia', 'Mounch', 50),\n",
        "('Norway', 'Sheilah', 'Hedditch', 53),\n",
        "('Papua New Guinea', 'Itch', 'Jubb', 50),\n",
        "('Latvia', 'Stesha', 'Garnson', 53),\n",
        "('Canada', 'Cristionna', 'Wadmore', 46),\n",
        "('China', 'Lianna', 'Gatward', 43),\n",
        "('Guatemala', 'Tanney', 'Vials', 48),\n",
        "('France', 'Alma', 'Zavittieri', 44),\n",
        "('China', 'Alvira', 'Tamas', 50),\n",
        "('United States', 'Shanon', 'Peres', 45),\n",
        "('Sweden', 'Maisey', 'Lynas', 53),\n",
        "('Indonesia', 'Kip', 'Hothersall', 46),\n",
        "('China', 'Cash', 'Landis', 48),\n",
        "('Panama', 'Kennith', 'Digance', 45),\n",
        "('China', 'Ulberto', 'Riggeard', 48),\n",
        "('Switzerland', 'Judy', 'Gilligan', 49),\n",
        "('Philippines', 'Tod', 'Trevaskus', 52),\n",
        "('Brazil', 'Herold', 'Heggs', 44),\n",
        "('Latvia', 'Verney', 'Note', 50),\n",
        "('Poland', 'Temp', 'Ribey', 50),\n",
        "('China', 'Conroy', 'Egdal', 48),\n",
        "('Japan', 'Gabie', 'Alessandone', 47),\n",
        "('Ukraine', 'Devlen', 'Chaperlin', 54),\n",
        "('France', 'Babbette', 'Turner', 51),\n",
        "('Czech Republic', 'Virgil', 'Scotney', 52),\n",
        "('Tajikistan', 'Zorina', 'Bedow', 49),\n",
        "('China', 'Aidan', 'Rudeyeard', 50),\n",
        "('Ireland', 'Saunder', 'MacLice', 48),\n",
        "('France', 'Waly', 'Brunstan', 53),\n",
        "('China', 'Gisele', 'Enns', 52),\n",
        "('Peru', 'Mina', 'Winchester', 48),\n",
        "('Japan', 'Torie', 'MacShirrie', 50),\n",
        "('Russia', 'Benjamen', 'Kenford', 51),\n",
        "('China', 'Etan', 'Burn', 53),\n",
        "('Russia', 'Merralee', 'Chaperlin', 38),\n",
        "('Indonesia', 'Lanny', 'Malam', 49),\n",
        "('Canada', 'Wilhelm', 'Deeprose', 54),\n",
        "('Czech Republic', 'Lari', 'Hillhouse', 48),\n",
        "('China', 'Ossie', 'Woodley', 52),\n",
        "('Macedonia', 'April', 'Tyer', 50),\n",
        "('Vietnam', 'Madelon', 'Dansey', 53),\n",
        "('Ukraine', 'Korella', 'McNamee', 52),\n",
        "('Jamaica', 'Linnea', 'Cannam', 43),\n",
        "('China', 'Mart', 'Coling', 52),\n",
        "('Indonesia', 'Marna', 'Causbey', 47),\n",
        "('China', 'Berni', 'Daintier', 55),\n",
        "('Poland', 'Cynthia', 'Hassell', 49),\n",
        "('Canada', 'Carma', 'Schule', 49),\n",
        "('Indonesia', 'Malia', 'Blight', 48),\n",
        "('China', 'Paulo', 'Seivertsen', 47),\n",
        "('Niger', 'Kaylee', 'Hearley', 54),\n",
        "('Japan', 'Maure', 'Jandak', 46),\n",
        "('Argentina', 'Foss', 'Feavers', 45),\n",
        "('Venezuela', 'Ron', 'Leggitt', 60),\n",
        "('Russia', 'Flint', 'Gokes', 40),\n",
        "('China', 'Linet', 'Conelly', 52),\n",
        "('Philippines', 'Nikolas', 'Birtwell', 57),\n",
        "('Australia', 'Eduard', 'Leipelt', 53)\n"
      ],
      "metadata": {
        "id": "hkZvVDMa8JGF",
        "colab": {
          "base_uri": "https://localhost:8080/"
        },
        "outputId": "cc52e96f-0cc8-4c32-8824-25852eac766f"
      },
      "execution_count": null,
      "outputs": [
        {
          "output_type": "stream",
          "name": "stdout",
          "text": [
            " * ibm_db_sa://gls83869:***@2f3279a5-73d1-4859-88f0-a6c3e6b4b907.c3n41cmd0nqnrk39u98g.databases.appdomain.cloud:30756/BLUDB\n",
            "Done.\n",
            "99 rows affected.\n"
          ]
        },
        {
          "output_type": "execute_result",
          "data": {
            "text/plain": [
              "[]"
            ]
          },
          "metadata": {},
          "execution_count": 34
        }
      ]
    },
    {
      "cell_type": "markdown",
      "source": [
        "The SQL query from above has created a dataframe within IBM DB2, which looks like this:\n",
        "\n",
        "<img src='https://drive.google.com/uc?id=1uJacnpmUFihkgYmtbX4TgxtyrmiwALNK'>\n",
        "\n",
        "And can be further explored in that very environment:\n",
        "\n",
        "<img src='https://drive.google.com/uc?id=15XIzmcwe9e5a2VGc7BN73JvQ3JhbBmps'>\n",
        "\n",
        "Or it can be explored using SQL, like the following:"
      ],
      "metadata": {
        "id": "fvgj_8glPdHM"
      }
    },
    {
      "cell_type": "code",
      "source": [
        "%%sql \n",
        "SELECT * FROM INTERNATIONAL_STUDENT_TEST_SCORES\n",
        "ORDER BY country, test_score ASC\n",
        "LIMIT 8;"
      ],
      "metadata": {
        "colab": {
          "base_uri": "https://localhost:8080/",
          "height": 242
        },
        "id": "fLLpwhfBOmLY",
        "outputId": "f1bdb856-4ae0-4096-ae13-c7e6bc603626"
      },
      "execution_count": null,
      "outputs": [
        {
          "output_type": "stream",
          "name": "stdout",
          "text": [
            " * ibm_db_sa://gls83869:***@2f3279a5-73d1-4859-88f0-a6c3e6b4b907.c3n41cmd0nqnrk39u98g.databases.appdomain.cloud:30756/BLUDB\n",
            "Done.\n"
          ]
        },
        {
          "output_type": "execute_result",
          "data": {
            "text/html": [
              "<table>\n",
              "    <thead>\n",
              "        <tr>\n",
              "            <th>country</th>\n",
              "            <th>first_name</th>\n",
              "            <th>last_name</th>\n",
              "            <th>test_score</th>\n",
              "        </tr>\n",
              "    </thead>\n",
              "    <tbody>\n",
              "        <tr>\n",
              "            <td>Argentina</td>\n",
              "            <td>Foss</td>\n",
              "            <td>Feavers</td>\n",
              "            <td>45</td>\n",
              "        </tr>\n",
              "        <tr>\n",
              "            <td>Armenia</td>\n",
              "            <td>Anatol</td>\n",
              "            <td>Tankus</td>\n",
              "            <td>51</td>\n",
              "        </tr>\n",
              "        <tr>\n",
              "            <td>Australia</td>\n",
              "            <td>Eduard</td>\n",
              "            <td>Leipelt</td>\n",
              "            <td>53</td>\n",
              "        </tr>\n",
              "        <tr>\n",
              "            <td>Azerbaijan</td>\n",
              "            <td>Idalina</td>\n",
              "            <td>Lukash</td>\n",
              "            <td>50</td>\n",
              "        </tr>\n",
              "        <tr>\n",
              "            <td>Brazil</td>\n",
              "            <td>Herold</td>\n",
              "            <td>Heggs</td>\n",
              "            <td>44</td>\n",
              "        </tr>\n",
              "        <tr>\n",
              "            <td>Brazil</td>\n",
              "            <td>Westley</td>\n",
              "            <td>Measor</td>\n",
              "            <td>48</td>\n",
              "        </tr>\n",
              "        <tr>\n",
              "            <td>Canada</td>\n",
              "            <td>Cristionna</td>\n",
              "            <td>Wadmore</td>\n",
              "            <td>46</td>\n",
              "        </tr>\n",
              "        <tr>\n",
              "            <td>Canada</td>\n",
              "            <td>Carma</td>\n",
              "            <td>Schule</td>\n",
              "            <td>49</td>\n",
              "        </tr>\n",
              "    </tbody>\n",
              "</table>"
            ],
            "text/plain": [
              "[('Argentina', 'Foss', 'Feavers', 45),\n",
              " ('Armenia', 'Anatol', 'Tankus', 51),\n",
              " ('Australia', 'Eduard', 'Leipelt', 53),\n",
              " ('Azerbaijan', 'Idalina', 'Lukash', 50),\n",
              " ('Brazil', 'Herold', 'Heggs', 44),\n",
              " ('Brazil', 'Westley', 'Measor', 48),\n",
              " ('Canada', 'Cristionna', 'Wadmore', 46),\n",
              " ('Canada', 'Carma', 'Schule', 49)]"
            ]
          },
          "metadata": {},
          "execution_count": 35
        }
      ]
    },
    {
      "cell_type": "markdown",
      "source": [
        "We have successfully replicated the results form the image above"
      ],
      "metadata": {
        "id": "cevLkLnUjFLA"
      }
    },
    {
      "cell_type": "markdown",
      "source": [
        "Now let's start exploring the data"
      ],
      "metadata": {
        "id": "5lP9x9oOjmIR"
      }
    },
    {
      "cell_type": "code",
      "source": [
        "%sql SELECT COUNT(*) FROM INTERNATIONAL_STUDENT_TEST_SCORES;"
      ],
      "metadata": {
        "colab": {
          "base_uri": "https://localhost:8080/",
          "height": 95
        },
        "id": "e96pk-Qzjz42",
        "outputId": "e3020973-3688-442d-ba24-4fddede590c9"
      },
      "execution_count": null,
      "outputs": [
        {
          "output_type": "stream",
          "name": "stdout",
          "text": [
            " * ibm_db_sa://gls83869:***@2f3279a5-73d1-4859-88f0-a6c3e6b4b907.c3n41cmd0nqnrk39u98g.databases.appdomain.cloud:30756/BLUDB\n",
            "Done.\n"
          ]
        },
        {
          "output_type": "execute_result",
          "data": {
            "text/html": [
              "<table>\n",
              "    <thead>\n",
              "        <tr>\n",
              "            <th>1</th>\n",
              "        </tr>\n",
              "    </thead>\n",
              "    <tbody>\n",
              "        <tr>\n",
              "            <td>99</td>\n",
              "        </tr>\n",
              "    </tbody>\n",
              "</table>"
            ],
            "text/plain": [
              "[(99,)]"
            ]
          },
          "metadata": {},
          "execution_count": 5
        }
      ]
    },
    {
      "cell_type": "markdown",
      "source": [
        "This tells us that there are 99 rows in the dataframe. Now let's see what is the maximum test score"
      ],
      "metadata": {
        "id": "AOGtQv63j88T"
      }
    },
    {
      "cell_type": "code",
      "source": [
        "%%sql\n",
        "SELECT MAX(test_score)\n",
        "FROM INTERNATIONAL_STUDENT_TEST_SCORES;"
      ],
      "metadata": {
        "colab": {
          "base_uri": "https://localhost:8080/",
          "height": 95
        },
        "id": "efmorP_BkrSJ",
        "outputId": "9a6270b7-fde7-413d-afdc-e976e78ba201"
      },
      "execution_count": null,
      "outputs": [
        {
          "output_type": "stream",
          "name": "stdout",
          "text": [
            " * ibm_db_sa://gls83869:***@2f3279a5-73d1-4859-88f0-a6c3e6b4b907.c3n41cmd0nqnrk39u98g.databases.appdomain.cloud:30756/BLUDB\n",
            "Done.\n"
          ]
        },
        {
          "output_type": "execute_result",
          "data": {
            "text/html": [
              "<table>\n",
              "    <thead>\n",
              "        <tr>\n",
              "            <th>1</th>\n",
              "        </tr>\n",
              "    </thead>\n",
              "    <tbody>\n",
              "        <tr>\n",
              "            <td>60</td>\n",
              "        </tr>\n",
              "    </tbody>\n",
              "</table>"
            ],
            "text/plain": [
              "[(60,)]"
            ]
          },
          "metadata": {},
          "execution_count": 6
        }
      ]
    },
    {
      "cell_type": "markdown",
      "source": [
        "And the average test score"
      ],
      "metadata": {
        "id": "G-HOymlLk07V"
      }
    },
    {
      "cell_type": "code",
      "source": [
        "%sql SELECT AVG(test_score) FROM INTERNATIONAL_STUDENT_TEST_SCORES"
      ],
      "metadata": {
        "colab": {
          "base_uri": "https://localhost:8080/",
          "height": 95
        },
        "id": "EALB7OJPkTVs",
        "outputId": "66e67b84-c725-460d-a357-f4b7bb5109be"
      },
      "execution_count": null,
      "outputs": [
        {
          "output_type": "stream",
          "name": "stdout",
          "text": [
            " * ibm_db_sa://gls83869:***@2f3279a5-73d1-4859-88f0-a6c3e6b4b907.c3n41cmd0nqnrk39u98g.databases.appdomain.cloud:30756/BLUDB\n",
            "Done.\n"
          ]
        },
        {
          "output_type": "execute_result",
          "data": {
            "text/html": [
              "<table>\n",
              "    <thead>\n",
              "        <tr>\n",
              "            <th>1</th>\n",
              "        </tr>\n",
              "    </thead>\n",
              "    <tbody>\n",
              "        <tr>\n",
              "            <td>49</td>\n",
              "        </tr>\n",
              "    </tbody>\n",
              "</table>"
            ],
            "text/plain": [
              "[(49,)]"
            ]
          },
          "metadata": {},
          "execution_count": 7
        }
      ]
    },
    {
      "cell_type": "markdown",
      "source": [
        "One important thing while exploring and understanding data is to filter it, and since we now know the average score, we can see which students got scores above the average"
      ],
      "metadata": {
        "id": "49nWyx4UkhUn"
      }
    },
    {
      "cell_type": "code",
      "source": [
        "%sql SELECT first_name, last_name, test_score FROM INTERNATIONAL_STUDENT_TEST_SCORES WHERE test_score > 49"
      ],
      "metadata": {
        "colab": {
          "base_uri": "https://localhost:8080/",
          "height": 1000
        },
        "id": "WTesvWDClYx7",
        "outputId": "bc23066c-1771-43ba-a201-5314eb51c4d2"
      },
      "execution_count": null,
      "outputs": [
        {
          "output_type": "stream",
          "name": "stdout",
          "text": [
            " * ibm_db_sa://gls83869:***@2f3279a5-73d1-4859-88f0-a6c3e6b4b907.c3n41cmd0nqnrk39u98g.databases.appdomain.cloud:30756/BLUDB\n",
            "Done.\n"
          ]
        },
        {
          "output_type": "execute_result",
          "data": {
            "text/html": [
              "<table>\n",
              "    <thead>\n",
              "        <tr>\n",
              "            <th>first_name</th>\n",
              "            <th>last_name</th>\n",
              "            <th>test_score</th>\n",
              "        </tr>\n",
              "    </thead>\n",
              "    <tbody>\n",
              "        <tr>\n",
              "            <td>Marshall</td>\n",
              "            <td>Bernadot</td>\n",
              "            <td>54</td>\n",
              "        </tr>\n",
              "        <tr>\n",
              "            <td>Celinda</td>\n",
              "            <td>Malkin</td>\n",
              "            <td>51</td>\n",
              "        </tr>\n",
              "        <tr>\n",
              "            <td>Guillermo</td>\n",
              "            <td>Furze</td>\n",
              "            <td>53</td>\n",
              "        </tr>\n",
              "        <tr>\n",
              "            <td>Emlyn</td>\n",
              "            <td>Erricker</td>\n",
              "            <td>55</td>\n",
              "        </tr>\n",
              "        <tr>\n",
              "            <td>Barny</td>\n",
              "            <td>Ingerson</td>\n",
              "            <td>57</td>\n",
              "        </tr>\n",
              "        <tr>\n",
              "            <td>Sharla</td>\n",
              "            <td>Papaccio</td>\n",
              "            <td>55</td>\n",
              "        </tr>\n",
              "        <tr>\n",
              "            <td>Stella</td>\n",
              "            <td>Youens</td>\n",
              "            <td>51</td>\n",
              "        </tr>\n",
              "        <tr>\n",
              "            <td>Tiffie</td>\n",
              "            <td>Cosely</td>\n",
              "            <td>58</td>\n",
              "        </tr>\n",
              "        <tr>\n",
              "            <td>Clarita</td>\n",
              "            <td>Huet</td>\n",
              "            <td>52</td>\n",
              "        </tr>\n",
              "        <tr>\n",
              "            <td>Emylee</td>\n",
              "            <td>Privost</td>\n",
              "            <td>50</td>\n",
              "        </tr>\n",
              "        <tr>\n",
              "            <td>Saunderson</td>\n",
              "            <td>Root</td>\n",
              "            <td>58</td>\n",
              "        </tr>\n",
              "        <tr>\n",
              "            <td>Bo</td>\n",
              "            <td>Waring</td>\n",
              "            <td>55</td>\n",
              "        </tr>\n",
              "        <tr>\n",
              "            <td>Wallis</td>\n",
              "            <td>Bartleet</td>\n",
              "            <td>58</td>\n",
              "        </tr>\n",
              "        <tr>\n",
              "            <td>Mendel</td>\n",
              "            <td>Grumble</td>\n",
              "            <td>58</td>\n",
              "        </tr>\n",
              "        <tr>\n",
              "            <td>Sallyann</td>\n",
              "            <td>Exley</td>\n",
              "            <td>51</td>\n",
              "        </tr>\n",
              "        <tr>\n",
              "            <td>Anatol</td>\n",
              "            <td>Tankus</td>\n",
              "            <td>51</td>\n",
              "        </tr>\n",
              "        <tr>\n",
              "            <td>Georgiana</td>\n",
              "            <td>Epple</td>\n",
              "            <td>51</td>\n",
              "        </tr>\n",
              "        <tr>\n",
              "            <td>Bartlet</td>\n",
              "            <td>Breese</td>\n",
              "            <td>56</td>\n",
              "        </tr>\n",
              "        <tr>\n",
              "            <td>Idalina</td>\n",
              "            <td>Lukash</td>\n",
              "            <td>50</td>\n",
              "        </tr>\n",
              "        <tr>\n",
              "            <td>Livvie</td>\n",
              "            <td>Flory</td>\n",
              "            <td>54</td>\n",
              "        </tr>\n",
              "        <tr>\n",
              "            <td>Katrinka</td>\n",
              "            <td>Sibbert</td>\n",
              "            <td>51</td>\n",
              "        </tr>\n",
              "        <tr>\n",
              "            <td>Valentia</td>\n",
              "            <td>Mounch</td>\n",
              "            <td>50</td>\n",
              "        </tr>\n",
              "        <tr>\n",
              "            <td>Sheilah</td>\n",
              "            <td>Hedditch</td>\n",
              "            <td>53</td>\n",
              "        </tr>\n",
              "        <tr>\n",
              "            <td>Itch</td>\n",
              "            <td>Jubb</td>\n",
              "            <td>50</td>\n",
              "        </tr>\n",
              "        <tr>\n",
              "            <td>Stesha</td>\n",
              "            <td>Garnson</td>\n",
              "            <td>53</td>\n",
              "        </tr>\n",
              "        <tr>\n",
              "            <td>Alvira</td>\n",
              "            <td>Tamas</td>\n",
              "            <td>50</td>\n",
              "        </tr>\n",
              "        <tr>\n",
              "            <td>Maisey</td>\n",
              "            <td>Lynas</td>\n",
              "            <td>53</td>\n",
              "        </tr>\n",
              "        <tr>\n",
              "            <td>Tod</td>\n",
              "            <td>Trevaskus</td>\n",
              "            <td>52</td>\n",
              "        </tr>\n",
              "        <tr>\n",
              "            <td>Verney</td>\n",
              "            <td>Note</td>\n",
              "            <td>50</td>\n",
              "        </tr>\n",
              "        <tr>\n",
              "            <td>Temp</td>\n",
              "            <td>Ribey</td>\n",
              "            <td>50</td>\n",
              "        </tr>\n",
              "        <tr>\n",
              "            <td>Devlen</td>\n",
              "            <td>Chaperlin</td>\n",
              "            <td>54</td>\n",
              "        </tr>\n",
              "        <tr>\n",
              "            <td>Babbette</td>\n",
              "            <td>Turner</td>\n",
              "            <td>51</td>\n",
              "        </tr>\n",
              "        <tr>\n",
              "            <td>Virgil</td>\n",
              "            <td>Scotney</td>\n",
              "            <td>52</td>\n",
              "        </tr>\n",
              "        <tr>\n",
              "            <td>Aidan</td>\n",
              "            <td>Rudeyeard</td>\n",
              "            <td>50</td>\n",
              "        </tr>\n",
              "        <tr>\n",
              "            <td>Waly</td>\n",
              "            <td>Brunstan</td>\n",
              "            <td>53</td>\n",
              "        </tr>\n",
              "        <tr>\n",
              "            <td>Gisele</td>\n",
              "            <td>Enns</td>\n",
              "            <td>52</td>\n",
              "        </tr>\n",
              "        <tr>\n",
              "            <td>Torie</td>\n",
              "            <td>MacShirrie</td>\n",
              "            <td>50</td>\n",
              "        </tr>\n",
              "        <tr>\n",
              "            <td>Benjamen</td>\n",
              "            <td>Kenford</td>\n",
              "            <td>51</td>\n",
              "        </tr>\n",
              "        <tr>\n",
              "            <td>Etan</td>\n",
              "            <td>Burn</td>\n",
              "            <td>53</td>\n",
              "        </tr>\n",
              "        <tr>\n",
              "            <td>Wilhelm</td>\n",
              "            <td>Deeprose</td>\n",
              "            <td>54</td>\n",
              "        </tr>\n",
              "        <tr>\n",
              "            <td>Ossie</td>\n",
              "            <td>Woodley</td>\n",
              "            <td>52</td>\n",
              "        </tr>\n",
              "        <tr>\n",
              "            <td>April</td>\n",
              "            <td>Tyer</td>\n",
              "            <td>50</td>\n",
              "        </tr>\n",
              "        <tr>\n",
              "            <td>Madelon</td>\n",
              "            <td>Dansey</td>\n",
              "            <td>53</td>\n",
              "        </tr>\n",
              "        <tr>\n",
              "            <td>Korella</td>\n",
              "            <td>McNamee</td>\n",
              "            <td>52</td>\n",
              "        </tr>\n",
              "        <tr>\n",
              "            <td>Mart</td>\n",
              "            <td>Coling</td>\n",
              "            <td>52</td>\n",
              "        </tr>\n",
              "        <tr>\n",
              "            <td>Berni</td>\n",
              "            <td>Daintier</td>\n",
              "            <td>55</td>\n",
              "        </tr>\n",
              "        <tr>\n",
              "            <td>Kaylee</td>\n",
              "            <td>Hearley</td>\n",
              "            <td>54</td>\n",
              "        </tr>\n",
              "        <tr>\n",
              "            <td>Ron</td>\n",
              "            <td>Leggitt</td>\n",
              "            <td>60</td>\n",
              "        </tr>\n",
              "        <tr>\n",
              "            <td>Linet</td>\n",
              "            <td>Conelly</td>\n",
              "            <td>52</td>\n",
              "        </tr>\n",
              "        <tr>\n",
              "            <td>Nikolas</td>\n",
              "            <td>Birtwell</td>\n",
              "            <td>57</td>\n",
              "        </tr>\n",
              "        <tr>\n",
              "            <td>Eduard</td>\n",
              "            <td>Leipelt</td>\n",
              "            <td>53</td>\n",
              "        </tr>\n",
              "    </tbody>\n",
              "</table>"
            ],
            "text/plain": [
              "[('Marshall', 'Bernadot', 54),\n",
              " ('Celinda', 'Malkin', 51),\n",
              " ('Guillermo', 'Furze', 53),\n",
              " ('Emlyn', 'Erricker', 55),\n",
              " ('Barny', 'Ingerson', 57),\n",
              " ('Sharla', 'Papaccio', 55),\n",
              " ('Stella', 'Youens', 51),\n",
              " ('Tiffie', 'Cosely', 58),\n",
              " ('Clarita', 'Huet', 52),\n",
              " ('Emylee', 'Privost', 50),\n",
              " ('Saunderson', 'Root', 58),\n",
              " ('Bo', 'Waring', 55),\n",
              " ('Wallis', 'Bartleet', 58),\n",
              " ('Mendel', 'Grumble', 58),\n",
              " ('Sallyann', 'Exley', 51),\n",
              " ('Anatol', 'Tankus', 51),\n",
              " ('Georgiana', 'Epple', 51),\n",
              " ('Bartlet', 'Breese', 56),\n",
              " ('Idalina', 'Lukash', 50),\n",
              " ('Livvie', 'Flory', 54),\n",
              " ('Katrinka', 'Sibbert', 51),\n",
              " ('Valentia', 'Mounch', 50),\n",
              " ('Sheilah', 'Hedditch', 53),\n",
              " ('Itch', 'Jubb', 50),\n",
              " ('Stesha', 'Garnson', 53),\n",
              " ('Alvira', 'Tamas', 50),\n",
              " ('Maisey', 'Lynas', 53),\n",
              " ('Tod', 'Trevaskus', 52),\n",
              " ('Verney', 'Note', 50),\n",
              " ('Temp', 'Ribey', 50),\n",
              " ('Devlen', 'Chaperlin', 54),\n",
              " ('Babbette', 'Turner', 51),\n",
              " ('Virgil', 'Scotney', 52),\n",
              " ('Aidan', 'Rudeyeard', 50),\n",
              " ('Waly', 'Brunstan', 53),\n",
              " ('Gisele', 'Enns', 52),\n",
              " ('Torie', 'MacShirrie', 50),\n",
              " ('Benjamen', 'Kenford', 51),\n",
              " ('Etan', 'Burn', 53),\n",
              " ('Wilhelm', 'Deeprose', 54),\n",
              " ('Ossie', 'Woodley', 52),\n",
              " ('April', 'Tyer', 50),\n",
              " ('Madelon', 'Dansey', 53),\n",
              " ('Korella', 'McNamee', 52),\n",
              " ('Mart', 'Coling', 52),\n",
              " ('Berni', 'Daintier', 55),\n",
              " ('Kaylee', 'Hearley', 54),\n",
              " ('Ron', 'Leggitt', 60),\n",
              " ('Linet', 'Conelly', 52),\n",
              " ('Nikolas', 'Birtwell', 57),\n",
              " ('Eduard', 'Leipelt', 53)]"
            ]
          },
          "metadata": {},
          "execution_count": 8
        }
      ]
    },
    {
      "cell_type": "markdown",
      "source": [
        "Ok, there are many good students, but how many?"
      ],
      "metadata": {
        "id": "HO42XbzXm0n4"
      }
    },
    {
      "cell_type": "code",
      "source": [
        "%%sql\n",
        "SELECT COUNT(first_name)\n",
        "FROM INTERNATIONAL_STUDENT_TEST_SCORES\n",
        "WHERE test_score > 49;"
      ],
      "metadata": {
        "colab": {
          "base_uri": "https://localhost:8080/",
          "height": 95
        },
        "id": "REhkJT8QmMxq",
        "outputId": "c71666b2-4f0d-4947-8f46-48fa3ee7f685"
      },
      "execution_count": null,
      "outputs": [
        {
          "output_type": "stream",
          "name": "stdout",
          "text": [
            " * ibm_db_sa://gls83869:***@2f3279a5-73d1-4859-88f0-a6c3e6b4b907.c3n41cmd0nqnrk39u98g.databases.appdomain.cloud:30756/BLUDB\n",
            "Done.\n"
          ]
        },
        {
          "output_type": "execute_result",
          "data": {
            "text/html": [
              "<table>\n",
              "    <thead>\n",
              "        <tr>\n",
              "            <th>1</th>\n",
              "        </tr>\n",
              "    </thead>\n",
              "    <tbody>\n",
              "        <tr>\n",
              "            <td>51</td>\n",
              "        </tr>\n",
              "    </tbody>\n",
              "</table>"
            ],
            "text/plain": [
              "[(51,)]"
            ]
          },
          "metadata": {},
          "execution_count": 9
        }
      ]
    },
    {
      "cell_type": "markdown",
      "source": [
        "And who is the best?"
      ],
      "metadata": {
        "id": "yhd_0ornGn8V"
      }
    },
    {
      "cell_type": "code",
      "source": [
        "%sql SELECT * FROM INTERNATIONAL_STUDENT_TEST_SCORES WHERE test_score=60"
      ],
      "metadata": {
        "colab": {
          "base_uri": "https://localhost:8080/",
          "height": 95
        },
        "id": "2vFsR0HNGs6D",
        "outputId": "5b5b81b3-c84e-4cc7-e72d-9800a0fdc0f0"
      },
      "execution_count": null,
      "outputs": [
        {
          "output_type": "stream",
          "name": "stdout",
          "text": [
            " * ibm_db_sa://gls83869:***@2f3279a5-73d1-4859-88f0-a6c3e6b4b907.c3n41cmd0nqnrk39u98g.databases.appdomain.cloud:30756/BLUDB\n",
            "Done.\n"
          ]
        },
        {
          "output_type": "execute_result",
          "data": {
            "text/html": [
              "<table>\n",
              "    <thead>\n",
              "        <tr>\n",
              "            <th>country</th>\n",
              "            <th>first_name</th>\n",
              "            <th>last_name</th>\n",
              "            <th>test_score</th>\n",
              "        </tr>\n",
              "    </thead>\n",
              "    <tbody>\n",
              "        <tr>\n",
              "            <td>Venezuela</td>\n",
              "            <td>Ron</td>\n",
              "            <td>Leggitt</td>\n",
              "            <td>60</td>\n",
              "        </tr>\n",
              "    </tbody>\n",
              "</table>"
            ],
            "text/plain": [
              "[('Venezuela', 'Ron', 'Leggitt', 60)]"
            ]
          },
          "metadata": {},
          "execution_count": 36
        }
      ]
    },
    {
      "cell_type": "markdown",
      "source": [
        "How many not-so-good students?"
      ],
      "metadata": {
        "id": "kwhkmoX_nJEt"
      }
    },
    {
      "cell_type": "code",
      "source": [
        "%%sql\n",
        "SELECT COUNT(first_name)\n",
        "FROM INTERNATIONAL_STUDENT_TEST_SCORES\n",
        "WHERE test_score <= 49;"
      ],
      "metadata": {
        "colab": {
          "base_uri": "https://localhost:8080/",
          "height": 95
        },
        "id": "CyEXx-y3nQy5",
        "outputId": "e031c8e8-597f-4d1c-aa86-4921d1192d23"
      },
      "execution_count": null,
      "outputs": [
        {
          "output_type": "stream",
          "name": "stdout",
          "text": [
            " * ibm_db_sa://gls83869:***@2f3279a5-73d1-4859-88f0-a6c3e6b4b907.c3n41cmd0nqnrk39u98g.databases.appdomain.cloud:30756/BLUDB\n",
            "Done.\n"
          ]
        },
        {
          "output_type": "execute_result",
          "data": {
            "text/html": [
              "<table>\n",
              "    <thead>\n",
              "        <tr>\n",
              "            <th>1</th>\n",
              "        </tr>\n",
              "    </thead>\n",
              "    <tbody>\n",
              "        <tr>\n",
              "            <td>48</td>\n",
              "        </tr>\n",
              "    </tbody>\n",
              "</table>"
            ],
            "text/plain": [
              "[(48,)]"
            ]
          },
          "metadata": {},
          "execution_count": 10
        }
      ]
    },
    {
      "cell_type": "markdown",
      "source": [
        "Ok, now let's see how many students are from our beloved Mexico"
      ],
      "metadata": {
        "id": "ili_Z2naSIKG"
      }
    },
    {
      "cell_type": "code",
      "source": [
        "country = \"Mexico\"\n",
        "%sql SELECT * FROM INTERNATIONAL_STUDENT_TEST_SCORES WHERE country = :country"
      ],
      "metadata": {
        "colab": {
          "base_uri": "https://localhost:8080/",
          "height": 95
        },
        "id": "Erh3mZxbRNcw",
        "outputId": "385c0178-7baa-40f4-f713-36df1d2cee0f"
      },
      "execution_count": null,
      "outputs": [
        {
          "output_type": "stream",
          "name": "stdout",
          "text": [
            " * ibm_db_sa://gls83869:***@2f3279a5-73d1-4859-88f0-a6c3e6b4b907.c3n41cmd0nqnrk39u98g.databases.appdomain.cloud:30756/BLUDB\n",
            "Done.\n"
          ]
        },
        {
          "output_type": "execute_result",
          "data": {
            "text/html": [
              "<table>\n",
              "    <thead>\n",
              "        <tr>\n",
              "            <th>country</th>\n",
              "            <th>first_name</th>\n",
              "            <th>last_name</th>\n",
              "            <th>test_score</th>\n",
              "        </tr>\n",
              "    </thead>\n",
              "    <tbody>\n",
              "        <tr>\n",
              "            <td>Mexico</td>\n",
              "            <td>Kain</td>\n",
              "            <td>Swaite</td>\n",
              "            <td>46</td>\n",
              "        </tr>\n",
              "    </tbody>\n",
              "</table>"
            ],
            "text/plain": [
              "[('Mexico', 'Kain', 'Swaite', 46)]"
            ]
          },
          "metadata": {},
          "execution_count": 11
        }
      ]
    },
    {
      "cell_type": "markdown",
      "source": [
        "Just one student from Mexico, whose name is Kain Swaite and got a score of 46. What about counting how many students are from each country"
      ],
      "metadata": {
        "id": "HGNp7_zlSiQe"
      }
    },
    {
      "cell_type": "code",
      "source": [
        "%sql SELECT country AS \"Country\", COUNT(*) AS \"Students\" FROM INTERNATIONAL_STUDENT_TEST_SCORES GROUP BY country;"
      ],
      "metadata": {
        "colab": {
          "base_uri": "https://localhost:8080/",
          "height": 851
        },
        "id": "-nQuqhrmA3Eg",
        "outputId": "0e5b308e-3214-4de0-93df-5d27d43067e8"
      },
      "execution_count": null,
      "outputs": [
        {
          "output_type": "stream",
          "name": "stdout",
          "text": [
            " * ibm_db_sa://gls83869:***@2f3279a5-73d1-4859-88f0-a6c3e6b4b907.c3n41cmd0nqnrk39u98g.databases.appdomain.cloud:30756/BLUDB\n",
            "Done.\n"
          ]
        },
        {
          "output_type": "execute_result",
          "data": {
            "text/html": [
              "<table>\n",
              "    <thead>\n",
              "        <tr>\n",
              "            <th>Country</th>\n",
              "            <th>Students</th>\n",
              "        </tr>\n",
              "    </thead>\n",
              "    <tbody>\n",
              "        <tr>\n",
              "            <td>Argentina</td>\n",
              "            <td>1</td>\n",
              "        </tr>\n",
              "        <tr>\n",
              "            <td>Armenia</td>\n",
              "            <td>1</td>\n",
              "        </tr>\n",
              "        <tr>\n",
              "            <td>Australia</td>\n",
              "            <td>1</td>\n",
              "        </tr>\n",
              "        <tr>\n",
              "            <td>Azerbaijan</td>\n",
              "            <td>1</td>\n",
              "        </tr>\n",
              "        <tr>\n",
              "            <td>Brazil</td>\n",
              "            <td>2</td>\n",
              "        </tr>\n",
              "        <tr>\n",
              "            <td>Canada</td>\n",
              "            <td>3</td>\n",
              "        </tr>\n",
              "        <tr>\n",
              "            <td>China</td>\n",
              "            <td>23</td>\n",
              "        </tr>\n",
              "        <tr>\n",
              "            <td>Czech Republic</td>\n",
              "            <td>2</td>\n",
              "        </tr>\n",
              "        <tr>\n",
              "            <td>France</td>\n",
              "            <td>5</td>\n",
              "        </tr>\n",
              "        <tr>\n",
              "            <td>Ghana</td>\n",
              "            <td>1</td>\n",
              "        </tr>\n",
              "        <tr>\n",
              "            <td>Greece</td>\n",
              "            <td>1</td>\n",
              "        </tr>\n",
              "        <tr>\n",
              "            <td>Guatemala</td>\n",
              "            <td>1</td>\n",
              "        </tr>\n",
              "        <tr>\n",
              "            <td>Indonesia</td>\n",
              "            <td>8</td>\n",
              "        </tr>\n",
              "        <tr>\n",
              "            <td>Ireland</td>\n",
              "            <td>2</td>\n",
              "        </tr>\n",
              "        <tr>\n",
              "            <td>Jamaica</td>\n",
              "            <td>1</td>\n",
              "        </tr>\n",
              "        <tr>\n",
              "            <td>Japan</td>\n",
              "            <td>3</td>\n",
              "        </tr>\n",
              "        <tr>\n",
              "            <td>Latvia</td>\n",
              "            <td>2</td>\n",
              "        </tr>\n",
              "        <tr>\n",
              "            <td>Macedonia</td>\n",
              "            <td>1</td>\n",
              "        </tr>\n",
              "        <tr>\n",
              "            <td>Malaysia</td>\n",
              "            <td>1</td>\n",
              "        </tr>\n",
              "        <tr>\n",
              "            <td>Moldova</td>\n",
              "            <td>1</td>\n",
              "        </tr>\n",
              "        <tr>\n",
              "            <td>Niger</td>\n",
              "            <td>1</td>\n",
              "        </tr>\n",
              "        <tr>\n",
              "            <td>Norway</td>\n",
              "            <td>1</td>\n",
              "        </tr>\n",
              "        <tr>\n",
              "            <td>Panama</td>\n",
              "            <td>1</td>\n",
              "        </tr>\n",
              "        <tr>\n",
              "            <td>Papua New Guinea</td>\n",
              "            <td>1</td>\n",
              "        </tr>\n",
              "        <tr>\n",
              "            <td>Peru</td>\n",
              "            <td>1</td>\n",
              "        </tr>\n",
              "        <tr>\n",
              "            <td>Philippines</td>\n",
              "            <td>5</td>\n",
              "        </tr>\n",
              "        <tr>\n",
              "            <td>Poland</td>\n",
              "            <td>7</td>\n",
              "        </tr>\n",
              "        <tr>\n",
              "            <td>Portugal</td>\n",
              "            <td>1</td>\n",
              "        </tr>\n",
              "        <tr>\n",
              "            <td>Russia</td>\n",
              "            <td>6</td>\n",
              "        </tr>\n",
              "        <tr>\n",
              "            <td>Sweden</td>\n",
              "            <td>2</td>\n",
              "        </tr>\n",
              "        <tr>\n",
              "            <td>Switzerland</td>\n",
              "            <td>2</td>\n",
              "        </tr>\n",
              "        <tr>\n",
              "            <td>Tajikistan</td>\n",
              "            <td>1</td>\n",
              "        </tr>\n",
              "        <tr>\n",
              "            <td>Uganda</td>\n",
              "            <td>1</td>\n",
              "        </tr>\n",
              "        <tr>\n",
              "            <td>Ukraine</td>\n",
              "            <td>4</td>\n",
              "        </tr>\n",
              "        <tr>\n",
              "            <td>United States</td>\n",
              "            <td>3</td>\n",
              "        </tr>\n",
              "        <tr>\n",
              "            <td>Venezuela</td>\n",
              "            <td>1</td>\n",
              "        </tr>\n",
              "        <tr>\n",
              "            <td>Vietnam</td>\n",
              "            <td>1</td>\n",
              "        </tr>\n",
              "    </tbody>\n",
              "</table>"
            ],
            "text/plain": [
              "[('Argentina', 1),\n",
              " ('Armenia', 1),\n",
              " ('Australia', 1),\n",
              " ('Azerbaijan', 1),\n",
              " ('Brazil', 2),\n",
              " ('Canada', 3),\n",
              " ('China', 23),\n",
              " ('Czech Republic', 2),\n",
              " ('France', 5),\n",
              " ('Ghana', 1),\n",
              " ('Greece', 1),\n",
              " ('Guatemala', 1),\n",
              " ('Indonesia', 8),\n",
              " ('Ireland', 2),\n",
              " ('Jamaica', 1),\n",
              " ('Japan', 3),\n",
              " ('Latvia', 2),\n",
              " ('Macedonia', 1),\n",
              " ('Malaysia', 1),\n",
              " ('Moldova', 1),\n",
              " ('Niger', 1),\n",
              " ('Norway', 1),\n",
              " ('Panama', 1),\n",
              " ('Papua New Guinea', 1),\n",
              " ('Peru', 1),\n",
              " ('Philippines', 5),\n",
              " ('Poland', 7),\n",
              " ('Portugal', 1),\n",
              " ('Russia', 6),\n",
              " ('Sweden', 2),\n",
              " ('Switzerland', 2),\n",
              " ('Tajikistan', 1),\n",
              " ('Uganda', 1),\n",
              " ('Ukraine', 4),\n",
              " ('United States', 3),\n",
              " ('Venezuela', 1),\n",
              " ('Vietnam', 1)]"
            ]
          },
          "metadata": {},
          "execution_count": 27
        }
      ]
    },
    {
      "cell_type": "markdown",
      "source": [
        "Now, as we are working within Python, we can define variables as we normally do. Let's create a variable for a table that has as columns, the Test Score and the number of times a Test Score was repeated (the frequency)."
      ],
      "metadata": {
        "id": "Vb7WBIo7cJzi"
      }
    },
    {
      "cell_type": "code",
      "source": [
        "test_score_distribution = %sql SELECT test_score AS \"Test Score\", COUNT(*) AS \"Frequency\" FROM INTERNATIONAL_STUDENT_TEST_SCORES GROUP BY test_score;\n",
        "test_score_distribution"
      ],
      "metadata": {
        "colab": {
          "base_uri": "https://localhost:8080/",
          "height": 473
        },
        "id": "OYBzV1hBSapV",
        "outputId": "d5814419-6b04-46f0-8c5b-420c68d80534"
      },
      "execution_count": null,
      "outputs": [
        {
          "output_type": "stream",
          "name": "stdout",
          "text": [
            " * ibm_db_sa://gls83869:***@2f3279a5-73d1-4859-88f0-a6c3e6b4b907.c3n41cmd0nqnrk39u98g.databases.appdomain.cloud:30756/BLUDB\n",
            "Done.\n"
          ]
        },
        {
          "output_type": "execute_result",
          "data": {
            "text/html": [
              "<table>\n",
              "    <thead>\n",
              "        <tr>\n",
              "            <th>Test Score</th>\n",
              "            <th>Frequency</th>\n",
              "        </tr>\n",
              "    </thead>\n",
              "    <tbody>\n",
              "        <tr>\n",
              "            <td>38</td>\n",
              "            <td>2</td>\n",
              "        </tr>\n",
              "        <tr>\n",
              "            <td>40</td>\n",
              "            <td>1</td>\n",
              "        </tr>\n",
              "        <tr>\n",
              "            <td>43</td>\n",
              "            <td>2</td>\n",
              "        </tr>\n",
              "        <tr>\n",
              "            <td>44</td>\n",
              "            <td>2</td>\n",
              "        </tr>\n",
              "        <tr>\n",
              "            <td>45</td>\n",
              "            <td>8</td>\n",
              "        </tr>\n",
              "        <tr>\n",
              "            <td>46</td>\n",
              "            <td>7</td>\n",
              "        </tr>\n",
              "        <tr>\n",
              "            <td>47</td>\n",
              "            <td>4</td>\n",
              "        </tr>\n",
              "        <tr>\n",
              "            <td>48</td>\n",
              "            <td>14</td>\n",
              "        </tr>\n",
              "        <tr>\n",
              "            <td>49</td>\n",
              "            <td>8</td>\n",
              "        </tr>\n",
              "        <tr>\n",
              "            <td>50</td>\n",
              "            <td>10</td>\n",
              "        </tr>\n",
              "        <tr>\n",
              "            <td>51</td>\n",
              "            <td>8</td>\n",
              "        </tr>\n",
              "        <tr>\n",
              "            <td>52</td>\n",
              "            <td>8</td>\n",
              "        </tr>\n",
              "        <tr>\n",
              "            <td>53</td>\n",
              "            <td>8</td>\n",
              "        </tr>\n",
              "        <tr>\n",
              "            <td>54</td>\n",
              "            <td>5</td>\n",
              "        </tr>\n",
              "        <tr>\n",
              "            <td>55</td>\n",
              "            <td>5</td>\n",
              "        </tr>\n",
              "        <tr>\n",
              "            <td>56</td>\n",
              "            <td>1</td>\n",
              "        </tr>\n",
              "        <tr>\n",
              "            <td>57</td>\n",
              "            <td>2</td>\n",
              "        </tr>\n",
              "        <tr>\n",
              "            <td>58</td>\n",
              "            <td>4</td>\n",
              "        </tr>\n",
              "        <tr>\n",
              "            <td>60</td>\n",
              "            <td>1</td>\n",
              "        </tr>\n",
              "    </tbody>\n",
              "</table>"
            ],
            "text/plain": [
              "[(38, 2),\n",
              " (40, 1),\n",
              " (43, 2),\n",
              " (44, 2),\n",
              " (45, 8),\n",
              " (46, 7),\n",
              " (47, 4),\n",
              " (48, 14),\n",
              " (49, 8),\n",
              " (50, 10),\n",
              " (51, 8),\n",
              " (52, 8),\n",
              " (53, 8),\n",
              " (54, 5),\n",
              " (55, 5),\n",
              " (56, 1),\n",
              " (57, 2),\n",
              " (58, 4),\n",
              " (60, 1)]"
            ]
          },
          "metadata": {},
          "execution_count": 26
        }
      ]
    },
    {
      "cell_type": "markdown",
      "source": [
        "Another useful thing about working with SQL inside Python is that we can use the different Python libraries, for example, if we want to plot the data, we can use Matplotlib, Seaborn, etc."
      ],
      "metadata": {
        "id": "pZYXiHV2dSPx"
      }
    },
    {
      "cell_type": "markdown",
      "source": [
        "In order to do that, we need to convert the SQL query into a Python dataframe"
      ],
      "metadata": {
        "id": "w3Uj-IMfd_Lk"
      }
    },
    {
      "cell_type": "code",
      "source": [
        "df = test_score_distribution.DataFrame()\n",
        "df"
      ],
      "metadata": {
        "colab": {
          "base_uri": "https://localhost:8080/",
          "height": 638
        },
        "id": "Jfz0Uy8pBgy3",
        "outputId": "c49d2320-a234-4d82-a850-5e8512108a8b"
      },
      "execution_count": null,
      "outputs": [
        {
          "output_type": "execute_result",
          "data": {
            "text/html": [
              "\n",
              "  <div id=\"df-003f9c4b-707e-4335-8698-6672d788cd90\">\n",
              "    <div class=\"colab-df-container\">\n",
              "      <div>\n",
              "<style scoped>\n",
              "    .dataframe tbody tr th:only-of-type {\n",
              "        vertical-align: middle;\n",
              "    }\n",
              "\n",
              "    .dataframe tbody tr th {\n",
              "        vertical-align: top;\n",
              "    }\n",
              "\n",
              "    .dataframe thead th {\n",
              "        text-align: right;\n",
              "    }\n",
              "</style>\n",
              "<table border=\"1\" class=\"dataframe\">\n",
              "  <thead>\n",
              "    <tr style=\"text-align: right;\">\n",
              "      <th></th>\n",
              "      <th>Test Score</th>\n",
              "      <th>Frequency</th>\n",
              "    </tr>\n",
              "  </thead>\n",
              "  <tbody>\n",
              "    <tr>\n",
              "      <th>0</th>\n",
              "      <td>38</td>\n",
              "      <td>2</td>\n",
              "    </tr>\n",
              "    <tr>\n",
              "      <th>1</th>\n",
              "      <td>40</td>\n",
              "      <td>1</td>\n",
              "    </tr>\n",
              "    <tr>\n",
              "      <th>2</th>\n",
              "      <td>43</td>\n",
              "      <td>2</td>\n",
              "    </tr>\n",
              "    <tr>\n",
              "      <th>3</th>\n",
              "      <td>44</td>\n",
              "      <td>2</td>\n",
              "    </tr>\n",
              "    <tr>\n",
              "      <th>4</th>\n",
              "      <td>45</td>\n",
              "      <td>8</td>\n",
              "    </tr>\n",
              "    <tr>\n",
              "      <th>5</th>\n",
              "      <td>46</td>\n",
              "      <td>7</td>\n",
              "    </tr>\n",
              "    <tr>\n",
              "      <th>6</th>\n",
              "      <td>47</td>\n",
              "      <td>4</td>\n",
              "    </tr>\n",
              "    <tr>\n",
              "      <th>7</th>\n",
              "      <td>48</td>\n",
              "      <td>14</td>\n",
              "    </tr>\n",
              "    <tr>\n",
              "      <th>8</th>\n",
              "      <td>49</td>\n",
              "      <td>8</td>\n",
              "    </tr>\n",
              "    <tr>\n",
              "      <th>9</th>\n",
              "      <td>50</td>\n",
              "      <td>10</td>\n",
              "    </tr>\n",
              "    <tr>\n",
              "      <th>10</th>\n",
              "      <td>51</td>\n",
              "      <td>8</td>\n",
              "    </tr>\n",
              "    <tr>\n",
              "      <th>11</th>\n",
              "      <td>52</td>\n",
              "      <td>8</td>\n",
              "    </tr>\n",
              "    <tr>\n",
              "      <th>12</th>\n",
              "      <td>53</td>\n",
              "      <td>8</td>\n",
              "    </tr>\n",
              "    <tr>\n",
              "      <th>13</th>\n",
              "      <td>54</td>\n",
              "      <td>5</td>\n",
              "    </tr>\n",
              "    <tr>\n",
              "      <th>14</th>\n",
              "      <td>55</td>\n",
              "      <td>4</td>\n",
              "    </tr>\n",
              "    <tr>\n",
              "      <th>15</th>\n",
              "      <td>56</td>\n",
              "      <td>1</td>\n",
              "    </tr>\n",
              "    <tr>\n",
              "      <th>16</th>\n",
              "      <td>57</td>\n",
              "      <td>2</td>\n",
              "    </tr>\n",
              "    <tr>\n",
              "      <th>17</th>\n",
              "      <td>58</td>\n",
              "      <td>4</td>\n",
              "    </tr>\n",
              "    <tr>\n",
              "      <th>18</th>\n",
              "      <td>60</td>\n",
              "      <td>1</td>\n",
              "    </tr>\n",
              "  </tbody>\n",
              "</table>\n",
              "</div>\n",
              "      <button class=\"colab-df-convert\" onclick=\"convertToInteractive('df-003f9c4b-707e-4335-8698-6672d788cd90')\"\n",
              "              title=\"Convert this dataframe to an interactive table.\"\n",
              "              style=\"display:none;\">\n",
              "        \n",
              "  <svg xmlns=\"http://www.w3.org/2000/svg\" height=\"24px\"viewBox=\"0 0 24 24\"\n",
              "       width=\"24px\">\n",
              "    <path d=\"M0 0h24v24H0V0z\" fill=\"none\"/>\n",
              "    <path d=\"M18.56 5.44l.94 2.06.94-2.06 2.06-.94-2.06-.94-.94-2.06-.94 2.06-2.06.94zm-11 1L8.5 8.5l.94-2.06 2.06-.94-2.06-.94L8.5 2.5l-.94 2.06-2.06.94zm10 10l.94 2.06.94-2.06 2.06-.94-2.06-.94-.94-2.06-.94 2.06-2.06.94z\"/><path d=\"M17.41 7.96l-1.37-1.37c-.4-.4-.92-.59-1.43-.59-.52 0-1.04.2-1.43.59L10.3 9.45l-7.72 7.72c-.78.78-.78 2.05 0 2.83L4 21.41c.39.39.9.59 1.41.59.51 0 1.02-.2 1.41-.59l7.78-7.78 2.81-2.81c.8-.78.8-2.07 0-2.86zM5.41 20L4 18.59l7.72-7.72 1.47 1.35L5.41 20z\"/>\n",
              "  </svg>\n",
              "      </button>\n",
              "      \n",
              "  <style>\n",
              "    .colab-df-container {\n",
              "      display:flex;\n",
              "      flex-wrap:wrap;\n",
              "      gap: 12px;\n",
              "    }\n",
              "\n",
              "    .colab-df-convert {\n",
              "      background-color: #E8F0FE;\n",
              "      border: none;\n",
              "      border-radius: 50%;\n",
              "      cursor: pointer;\n",
              "      display: none;\n",
              "      fill: #1967D2;\n",
              "      height: 32px;\n",
              "      padding: 0 0 0 0;\n",
              "      width: 32px;\n",
              "    }\n",
              "\n",
              "    .colab-df-convert:hover {\n",
              "      background-color: #E2EBFA;\n",
              "      box-shadow: 0px 1px 2px rgba(60, 64, 67, 0.3), 0px 1px 3px 1px rgba(60, 64, 67, 0.15);\n",
              "      fill: #174EA6;\n",
              "    }\n",
              "\n",
              "    [theme=dark] .colab-df-convert {\n",
              "      background-color: #3B4455;\n",
              "      fill: #D2E3FC;\n",
              "    }\n",
              "\n",
              "    [theme=dark] .colab-df-convert:hover {\n",
              "      background-color: #434B5C;\n",
              "      box-shadow: 0px 1px 3px 1px rgba(0, 0, 0, 0.15);\n",
              "      filter: drop-shadow(0px 1px 2px rgba(0, 0, 0, 0.3));\n",
              "      fill: #FFFFFF;\n",
              "    }\n",
              "  </style>\n",
              "\n",
              "      <script>\n",
              "        const buttonEl =\n",
              "          document.querySelector('#df-003f9c4b-707e-4335-8698-6672d788cd90 button.colab-df-convert');\n",
              "        buttonEl.style.display =\n",
              "          google.colab.kernel.accessAllowed ? 'block' : 'none';\n",
              "\n",
              "        async function convertToInteractive(key) {\n",
              "          const element = document.querySelector('#df-003f9c4b-707e-4335-8698-6672d788cd90');\n",
              "          const dataTable =\n",
              "            await google.colab.kernel.invokeFunction('convertToInteractive',\n",
              "                                                     [key], {});\n",
              "          if (!dataTable) return;\n",
              "\n",
              "          const docLinkHtml = 'Like what you see? Visit the ' +\n",
              "            '<a target=\"_blank\" href=https://colab.research.google.com/notebooks/data_table.ipynb>data table notebook</a>'\n",
              "            + ' to learn more about interactive tables.';\n",
              "          element.innerHTML = '';\n",
              "          dataTable['output_type'] = 'display_data';\n",
              "          await google.colab.output.renderOutput(dataTable, element);\n",
              "          const docLink = document.createElement('div');\n",
              "          docLink.innerHTML = docLinkHtml;\n",
              "          element.appendChild(docLink);\n",
              "        }\n",
              "      </script>\n",
              "    </div>\n",
              "  </div>\n",
              "  "
            ],
            "text/plain": [
              "    Test Score  Frequency\n",
              "0           38          2\n",
              "1           40          1\n",
              "2           43          2\n",
              "3           44          2\n",
              "4           45          8\n",
              "5           46          7\n",
              "6           47          4\n",
              "7           48         14\n",
              "8           49          8\n",
              "9           50         10\n",
              "10          51          8\n",
              "11          52          8\n",
              "12          53          8\n",
              "13          54          5\n",
              "14          55          4\n",
              "15          56          1\n",
              "16          57          2\n",
              "17          58          4\n",
              "18          60          1"
            ]
          },
          "metadata": {},
          "execution_count": 14
        }
      ]
    },
    {
      "cell_type": "markdown",
      "source": [
        "And now we can plot using seaborn"
      ],
      "metadata": {
        "id": "8-OUfAbxepR0"
      }
    },
    {
      "cell_type": "code",
      "source": [
        "plot = sns.barplot(x='Test Score',y='Frequency', data=df)"
      ],
      "metadata": {
        "colab": {
          "base_uri": "https://localhost:8080/",
          "height": 448
        },
        "id": "dc3YxZgrdFYv",
        "outputId": "c5103682-680e-4ba2-a848-437bea7e7e31"
      },
      "execution_count": null,
      "outputs": [
        {
          "output_type": "display_data",
          "data": {
            "image/png": "[encoded data removed]",
            "text/plain": [
              "<Figure size 720x504 with 1 Axes>"
            ]
          },
          "metadata": {}
        }
      ]
    },
    {
      "cell_type": "markdown",
      "source": [
        "Or using Pandas"
      ],
      "metadata": {
        "id": "IZhS7Qrjfv-A"
      }
    },
    {
      "cell_type": "code",
      "source": [
        "df.plot(x='Test Score',y='Frequency', figsize=(10,7)) #df.plot.bar would give us a barplot like the one before"
      ],
      "metadata": {
        "colab": {
          "base_uri": "https://localhost:8080/",
          "height": 465
        },
        "id": "ZlrFAamEegNi",
        "outputId": "e4a20754-e6b3-47aa-ff67-4f764133b7e1"
      },
      "execution_count": null,
      "outputs": [
        {
          "output_type": "execute_result",
          "data": {
            "text/plain": [
              "<matplotlib.axes._subplots.AxesSubplot at 0x7f44de404fd0>"
            ]
          },
          "metadata": {},
          "execution_count": 16
        },
        {
          "output_type": "display_data",
          "data": {
            "image/png": "[encoded data removed]",
            "text/plain": [
              "<Figure size 720x504 with 1 Axes>"
            ]
          },
          "metadata": {}
        }
      ]
    },
    {
      "cell_type": "markdown",
      "source": [
        "Suddenly, the school got a new student"
      ],
      "metadata": {
        "id": "a0RUOkxBC4ZK"
      }
    },
    {
      "cell_type": "code",
      "source": [
        "%%sql\n",
        "INSERT INTO INTERNATIONAL_STUDENT_TEST_SCORES (country, first_name, last_name, test_score)\n",
        "VALUES\n",
        "('Ukraine', 'Anna', 'Bondarenko', 55)"
      ],
      "metadata": {
        "colab": {
          "base_uri": "https://localhost:8080/"
        },
        "id": "yLny1cxgglir",
        "outputId": "cbdb10e5-50ba-4e86-b441-a43d4e73a95c"
      },
      "execution_count": null,
      "outputs": [
        {
          "output_type": "stream",
          "name": "stdout",
          "text": [
            " * ibm_db_sa://gls83869:***@2f3279a5-73d1-4859-88f0-a6c3e6b4b907.c3n41cmd0nqnrk39u98g.databases.appdomain.cloud:30756/BLUDB\n",
            "1 rows affected.\n"
          ]
        },
        {
          "output_type": "execute_result",
          "data": {
            "text/plain": [
              "[]"
            ]
          },
          "metadata": {},
          "execution_count": 40
        }
      ]
    },
    {
      "cell_type": "markdown",
      "source": [
        "And turns out that our only student from Mexico was actually from Switzerland. What a thing!"
      ],
      "metadata": {
        "id": "EFvkkjabD5p0"
      }
    },
    {
      "cell_type": "code",
      "source": [
        "%%sql\n",
        "UPDATE INTERNATIONAL_STUDENT_TEST_SCORES\n",
        "SET country = 'Switzerland', first_name = 'Kain', last_name = 'Swaite'\n",
        "WHERE country = 'Mexico';"
      ],
      "metadata": {
        "colab": {
          "base_uri": "https://localhost:8080/"
        },
        "id": "eyPGl1bfDjyc",
        "outputId": "1bf7c1c8-1470-4407-f376-c5cddb5b2091"
      },
      "execution_count": null,
      "outputs": [
        {
          "output_type": "stream",
          "name": "stdout",
          "text": [
            " * ibm_db_sa://gls83869:***@2f3279a5-73d1-4859-88f0-a6c3e6b4b907.c3n41cmd0nqnrk39u98g.databases.appdomain.cloud:30756/BLUDB\n",
            "1 rows affected.\n"
          ]
        },
        {
          "output_type": "execute_result",
          "data": {
            "text/plain": [
              "[]"
            ]
          },
          "metadata": {},
          "execution_count": 39
        }
      ]
    },
    {
      "cell_type": "markdown",
      "source": [
        "And then, sadly our best student moved to another city, so he left the school"
      ],
      "metadata": {
        "id": "0vbThZ9iFvmE"
      }
    },
    {
      "cell_type": "code",
      "source": [
        "%%sql\n",
        "DELETE FROM INTERNATIONAL_STUDENT_TEST_SCORES\n",
        "WHERE test_score=60;"
      ],
      "metadata": {
        "colab": {
          "base_uri": "https://localhost:8080/"
        },
        "id": "MAFVLPniGQkn",
        "outputId": "004b5c8b-1eee-4320-a1e0-5d4ab79c159d"
      },
      "execution_count": null,
      "outputs": [
        {
          "output_type": "stream",
          "name": "stdout",
          "text": [
            " * ibm_db_sa://gls83869:***@2f3279a5-73d1-4859-88f0-a6c3e6b4b907.c3n41cmd0nqnrk39u98g.databases.appdomain.cloud:30756/BLUDB\n",
            "1 rows affected.\n"
          ]
        },
        {
          "output_type": "execute_result",
          "data": {
            "text/plain": [
              "[]"
            ]
          },
          "metadata": {},
          "execution_count": 37
        }
      ]
    },
    {
      "cell_type": "markdown",
      "source": [
        "Let's see this changes"
      ],
      "metadata": {
        "id": "FDANfU-ZFpxo"
      }
    },
    {
      "cell_type": "code",
      "source": [
        "%sql SELECT * FROM INTERNATIONAL_STUDENT_TEST_SCORES WHERE first_name = 'Kain' OR first_name = 'Anna' OR test_score=60"
      ],
      "metadata": {
        "colab": {
          "base_uri": "https://localhost:8080/",
          "height": 116
        },
        "id": "O4fiETedFBmB",
        "outputId": "981b9823-d749-4cee-842c-915bcb246fc3"
      },
      "execution_count": null,
      "outputs": [
        {
          "output_type": "stream",
          "name": "stdout",
          "text": [
            " * ibm_db_sa://gls83869:***@2f3279a5-73d1-4859-88f0-a6c3e6b4b907.c3n41cmd0nqnrk39u98g.databases.appdomain.cloud:30756/BLUDB\n",
            "Done.\n"
          ]
        },
        {
          "output_type": "execute_result",
          "data": {
            "text/html": [
              "<table>\n",
              "    <thead>\n",
              "        <tr>\n",
              "            <th>country</th>\n",
              "            <th>first_name</th>\n",
              "            <th>last_name</th>\n",
              "            <th>test_score</th>\n",
              "        </tr>\n",
              "    </thead>\n",
              "    <tbody>\n",
              "        <tr>\n",
              "            <td>Switzerland</td>\n",
              "            <td>Kain</td>\n",
              "            <td>Swaite</td>\n",
              "            <td>46</td>\n",
              "        </tr>\n",
              "        <tr>\n",
              "            <td>Ukraine</td>\n",
              "            <td>Anna</td>\n",
              "            <td>Bondarenko</td>\n",
              "            <td>55</td>\n",
              "        </tr>\n",
              "    </tbody>\n",
              "</table>"
            ],
            "text/plain": [
              "[('Switzerland', 'Kain', 'Swaite', 46), ('Ukraine', 'Anna', 'Bondarenko', 55)]"
            ]
          },
          "metadata": {},
          "execution_count": 41
        }
      ]
    },
    {
      "cell_type": "markdown",
      "source": [
        "And if we don't want the table anymore, we can just delete it"
      ],
      "metadata": {
        "id": "9PTii0yebY_-"
      }
    },
    {
      "cell_type": "code",
      "source": [
        "%sql DROP TABLE INTERNATIONAL_STUDENT_TEST_SCORES"
      ],
      "metadata": {
        "colab": {
          "base_uri": "https://localhost:8080/"
        },
        "id": "8WEEgEHpPSDH",
        "outputId": "439fc949-b411-4265-9ccc-ede3b328702f"
      },
      "execution_count": null,
      "outputs": [
        {
          "output_type": "stream",
          "name": "stdout",
          "text": [
            " * ibm_db_sa://gls83869:***@2f3279a5-73d1-4859-88f0-a6c3e6b4b907.c3n41cmd0nqnrk39u98g.databases.appdomain.cloud:30756/BLUDB\n",
            "Done.\n"
          ]
        },
        {
          "output_type": "execute_result",
          "data": {
            "text/plain": [
              "[]"
            ]
          },
          "metadata": {},
          "execution_count": 67
        }
      ]
    },
    {
      "cell_type": "code",
      "source": [
        ""
      ],
      "metadata": {
        "id": "omYUxKkNbeWy"
      },
      "execution_count": null,
      "outputs": []
    }
  ]
}